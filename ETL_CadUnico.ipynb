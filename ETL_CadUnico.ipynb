{
 "cells": [
  {
   "cell_type": "markdown",
   "metadata": {},
   "source": [
    "### Instalando biblioteca para download dos dados\n"
   ]
  },
  {
   "cell_type": "code",
   "execution_count": 70,
   "metadata": {},
   "outputs": [
    {
     "name": "stdout",
     "output_type": "stream",
     "text": [
      "Requirement already satisfied: pandas in c:\\python312\\lib\\site-packages (2.2.2)\n",
      "Requirement already satisfied: requests in c:\\python312\\lib\\site-packages (2.32.3)\n",
      "Requirement already satisfied: numpy>=1.26.0 in c:\\python312\\lib\\site-packages (from pandas) (2.0.0)\n",
      "Requirement already satisfied: python-dateutil>=2.8.2 in c:\\users\\usuario\\appdata\\roaming\\python\\python312\\site-packages (from pandas) (2.8.2)\n",
      "Requirement already satisfied: pytz>=2020.1 in c:\\python312\\lib\\site-packages (from pandas) (2024.1)\n",
      "Requirement already satisfied: tzdata>=2022.7 in c:\\python312\\lib\\site-packages (from pandas) (2024.1)\n",
      "Requirement already satisfied: charset-normalizer<4,>=2 in c:\\python312\\lib\\site-packages (from requests) (3.3.2)\n",
      "Requirement already satisfied: idna<4,>=2.5 in c:\\python312\\lib\\site-packages (from requests) (3.7)\n",
      "Requirement already satisfied: urllib3<3,>=1.21.1 in c:\\python312\\lib\\site-packages (from requests) (2.2.2)\n",
      "Requirement already satisfied: certifi>=2017.4.17 in c:\\python312\\lib\\site-packages (from requests) (2024.6.2)\n",
      "Requirement already satisfied: six>=1.5 in c:\\users\\usuario\\appdata\\roaming\\python\\python312\\site-packages (from python-dateutil>=2.8.2->pandas) (1.16.0)\n",
      "Note: you may need to restart the kernel to use updated packages.\n"
     ]
    },
    {
     "name": "stderr",
     "output_type": "stream",
     "text": [
      "\n",
      "[notice] A new release of pip is available: 23.2.1 -> 24.0\n",
      "[notice] To update, run: python.exe -m pip install --upgrade pip\n"
     ]
    }
   ],
   "source": [
    "%pip install pandas requests"
   ]
  },
  {
   "cell_type": "markdown",
   "metadata": {},
   "source": [
    "### Baixando arquivo csv"
   ]
  },
  {
   "cell_type": "code",
   "execution_count": 71,
   "metadata": {},
   "outputs": [],
   "source": [
    "import requests\n",
    "\n",
    "# URL do arquivo de dados\n",
    "url = 'https://aplicacoes.mds.gov.br/sagi/servicos/misocial?fq=anomes_s:2023*&wt=csv&omitHeader=true&fq=cadunico_tot_fam_i:{0%20TO%20*]&q=*&fl=ibge:codigo_ibge,anomes:anomes_s,cadunico_tot_fam:cadunico_tot_fam_i,cadunico_tot_pes:cadunico_tot_pes_i,cadunico_tot_fam_rpc_ate_meio_sm:cadunico_tot_fam_rpc_ate_meio_sm_i,cadunico_tot_pes_rpc_ate_meio_sm:cadunico_tot_pes_rpc_ate_meio_sm_i,cadunico_tot_fam_pob:cadunico_tot_fam_pob_i,cadunico_tot_pes_pob:cadunico_tot_pes_pob_i,cadunico_tot_fam_ext_pob:cadunico_tot_fam_ext_pob_i,cadunico_tot_pes_ext_pob:cadunico_tot_pes_ext_pob_i,cadunico_tot_fam_pob_e_ext_pob:cadunico_tot_fam_pob_e_ext_pob_i,cadunico_tot_pes_pob_e_ext_pob:cadunico_tot_pes_pob_e_ext_pob_i&rows=100000000&sort=anomes_s%20desc,%20codigo_ibge%20asc'\n",
    "file_path = 'cad_unico_renda.csv'\n",
    "\n",
    "# Fazendo a requisição para baixar os dados\n",
    "response = requests.get(url)\n",
    "\n",
    "# Verificando se a requisição foi bem-sucedida\n",
    "if response.status_code == 200:\n",
    "    # salvando o conteúdo do arquivo localmente\n",
    "    with open(file_path, 'wb') as f:\n",
    "        f.write(response.content)\n",
    "else:\n",
    "    print(f\"Falha ao baixar os dados. Status code: {response.status_code}\")\n"
   ]
  },
  {
   "cell_type": "markdown",
   "metadata": {},
   "source": [
    "### Instalando o pyspark"
   ]
  },
  {
   "cell_type": "code",
   "execution_count": 72,
   "metadata": {},
   "outputs": [
    {
     "name": "stdout",
     "output_type": "stream",
     "text": [
      "Requirement already satisfied: pyspark in c:\\python312\\lib\\site-packages (3.5.0)\n",
      "Requirement already satisfied: py4j==0.10.9.7 in c:\\python312\\lib\\site-packages (from pyspark) (0.10.9.7)\n",
      "Note: you may need to restart the kernel to use updated packages.\n"
     ]
    },
    {
     "name": "stderr",
     "output_type": "stream",
     "text": [
      "\n",
      "[notice] A new release of pip is available: 23.2.1 -> 24.0\n",
      "[notice] To update, run: python.exe -m pip install --upgrade pip\n"
     ]
    }
   ],
   "source": [
    "%pip install --user pyspark"
   ]
  },
  {
   "cell_type": "markdown",
   "metadata": {},
   "source": [
    "### Criando a sessão spark"
   ]
  },
  {
   "cell_type": "code",
   "execution_count": 73,
   "metadata": {},
   "outputs": [],
   "source": [
    "from pyspark.sql import SparkSession\n",
    "\n",
    "# Criando a sessão spark\n",
    "spark_session = SparkSession.builder.appName('spark') \\\n",
    "                                    .config(\"spark.executor.memory\", \"4g\") \\\n",
    "                                    .getOrCreate()"
   ]
  },
  {
   "cell_type": "markdown",
   "metadata": {},
   "source": [
    "### Lendo arquivo csv e montando dataframe do spark"
   ]
  },
  {
   "cell_type": "code",
   "execution_count": 74,
   "metadata": {},
   "outputs": [
    {
     "name": "stdout",
     "output_type": "stream",
     "text": [
      "+------+------+----------------+----------------+--------------------------------+--------------------------------+--------------------+--------------------+------------------------+------------------------+------------------------------+------------------------------+\n",
      "|  ibge|anomes|cadunico_tot_fam|cadunico_tot_pes|cadunico_tot_fam_rpc_ate_meio_sm|cadunico_tot_pes_rpc_ate_meio_sm|cadunico_tot_fam_pob|cadunico_tot_pes_pob|cadunico_tot_fam_ext_pob|cadunico_tot_pes_ext_pob|cadunico_tot_fam_pob_e_ext_pob|cadunico_tot_pes_pob_e_ext_pob|\n",
      "+------+------+----------------+----------------+--------------------------------+--------------------------------+--------------------+--------------------+------------------------+------------------------+------------------------------+------------------------------+\n",
      "|110001|202311|            4978|           12757|                            2886|                            8590|                 771|                2489|                     722|                    1965|                          1493|                          4454|\n",
      "|110002|202311|           19112|           44321|                           11575|                           30371|                2904|                8033|                    3368|                    8190|                          6272|                         16223|\n",
      "|110003|202311|             975|            2623|                             587|                            1805|                 169|                 521|                     102|                     290|                           271|                           811|\n",
      "|110004|202311|           18422|           42724|                           10005|                           26809|                2254|                6270|                    3270|                    8140|                          5524|                         14410|\n",
      "|110005|202311|            3239|            7813|                            1884|                            5295|                 573|                1594|                     505|                    1428|                          1078|                          3022|\n",
      "|110006|202311|            1870|            4889|                             982|                            2982|                 204|                 665|                     200|                     514|                           404|                          1179|\n",
      "|110007|202311|            1469|            3526|                             717|                            2082|                 179|                 524|                     124|                     356|                           303|                           880|\n",
      "|110008|202311|            4442|           10315|                            2959|                            8062|                 669|                1616|                    1477|                    4446|                          2146|                          6062|\n",
      "|110009|202311|            5733|           14822|                            3090|                            9605|                 676|                2192|                     794|                    2274|                          1470|                          4466|\n",
      "|110010|202311|           10468|           28388|                            7273|                           22569|                1994|                5494|                    3047|                   10774|                          5041|                         16268|\n",
      "|110011|202311|           10003|           24042|                            5902|                           16196|                1651|                4724|                    1226|                    3022|                          2877|                          7746|\n",
      "|110012|202311|           23589|           53941|                           13008|                           34533|                3455|                8990|                    3470|                    8649|                          6925|                         17639|\n",
      "|110013|202311|            7943|           20439|                            4698|                           13901|                1744|                5330|                     673|                    1972|                          2417|                          7302|\n",
      "|110014|202311|            4597|           11238|                            2621|                            7295|                 547|                1586|                     926|                    2500|                          1473|                          4086|\n",
      "|110015|202311|            7878|           18374|                            4290|                           11490|                1046|                3092|                    1251|                    2691|                          2297|                          5783|\n",
      "|110018|202311|            5972|           13926|                            2989|                            8040|                 723|                2011|                     694|                    1627|                          1417|                          3638|\n",
      "|110020|202311|          124716|          259169|                           82375|                          194091|               17580|               42869|                   41530|                   94777|                         59110|                        137646|\n",
      "|110025|202311|            6012|           13533|                            3428|                            8772|                 602|                1683|                    1590|                    3661|                          2192|                          5344|\n",
      "|110026|202311|             752|            1865|                             427|                            1238|                 103|                 319|                     114|                     329|                           217|                           648|\n",
      "|110028|202311|            9717|           22780|                            4876|                           13494|                1278|                3869|                     461|                    1113|                          1739|                          4982|\n",
      "+------+------+----------------+----------------+--------------------------------+--------------------------------+--------------------+--------------------+------------------------+------------------------+------------------------------+------------------------------+\n",
      "only showing top 20 rows\n",
      "\n"
     ]
    }
   ],
   "source": [
    "df = spark_session.read.options(header=\"true\", delimiter=\",\", encoding=\"ISO-8859-1\", inferSchema=True).csv('cad_unico_renda.csv')\n",
    "df.show()"
   ]
  },
  {
   "cell_type": "markdown",
   "metadata": {},
   "source": [
    "### Padronizando e transformando os dados"
   ]
  },
  {
   "cell_type": "code",
   "execution_count": 75,
   "metadata": {},
   "outputs": [
    {
     "name": "stdout",
     "output_type": "stream",
     "text": [
      "DataFrame resultante:\n",
      "+------+-------+-------+-----------------------+-----------------------+-----------+-----------+---------------+---------------+---------------------+---------------------+----+----------+------+\n",
      "|  ibge|tot_fam|tot_pes|tot_fam_rpc_ate_meio_sm|tot_pes_rpc_ate_meio_sm|tot_fam_pob|tot_pes_pob|tot_fam_ext_pob|tot_pes_ext_pob|tot_fam_pob_e_ext_pob|tot_pes_pob_e_ext_pob| ano|       mes|estado|\n",
      "+------+-------+-------+-----------------------+-----------------------+-----------+-----------+---------------+---------------+---------------------+---------------------+----+----------+------+\n",
      "|110001|   4978|  12757|                   2886|                   8590|        771|       2489|            722|           1965|                 1493|                 4454|2023|2023-11-01|    RO|\n",
      "|110002|  19112|  44321|                  11575|                  30371|       2904|       8033|           3368|           8190|                 6272|                16223|2023|2023-11-01|    RO|\n",
      "|110003|    975|   2623|                    587|                   1805|        169|        521|            102|            290|                  271|                  811|2023|2023-11-01|    RO|\n",
      "|110004|  18422|  42724|                  10005|                  26809|       2254|       6270|           3270|           8140|                 5524|                14410|2023|2023-11-01|    RO|\n",
      "|110005|   3239|   7813|                   1884|                   5295|        573|       1594|            505|           1428|                 1078|                 3022|2023|2023-11-01|    RO|\n",
      "|110006|   1870|   4889|                    982|                   2982|        204|        665|            200|            514|                  404|                 1179|2023|2023-11-01|    RO|\n",
      "|110007|   1469|   3526|                    717|                   2082|        179|        524|            124|            356|                  303|                  880|2023|2023-11-01|    RO|\n",
      "|110008|   4442|  10315|                   2959|                   8062|        669|       1616|           1477|           4446|                 2146|                 6062|2023|2023-11-01|    RO|\n",
      "|110009|   5733|  14822|                   3090|                   9605|        676|       2192|            794|           2274|                 1470|                 4466|2023|2023-11-01|    RO|\n",
      "|110010|  10468|  28388|                   7273|                  22569|       1994|       5494|           3047|          10774|                 5041|                16268|2023|2023-11-01|    RO|\n",
      "|110011|  10003|  24042|                   5902|                  16196|       1651|       4724|           1226|           3022|                 2877|                 7746|2023|2023-11-01|    RO|\n",
      "|110012|  23589|  53941|                  13008|                  34533|       3455|       8990|           3470|           8649|                 6925|                17639|2023|2023-11-01|    RO|\n",
      "|110013|   7943|  20439|                   4698|                  13901|       1744|       5330|            673|           1972|                 2417|                 7302|2023|2023-11-01|    RO|\n",
      "|110014|   4597|  11238|                   2621|                   7295|        547|       1586|            926|           2500|                 1473|                 4086|2023|2023-11-01|    RO|\n",
      "|110015|   7878|  18374|                   4290|                  11490|       1046|       3092|           1251|           2691|                 2297|                 5783|2023|2023-11-01|    RO|\n",
      "|110018|   5972|  13926|                   2989|                   8040|        723|       2011|            694|           1627|                 1417|                 3638|2023|2023-11-01|    RO|\n",
      "|110020| 124716| 259169|                  82375|                 194091|      17580|      42869|          41530|          94777|                59110|               137646|2023|2023-11-01|    RO|\n",
      "|110025|   6012|  13533|                   3428|                   8772|        602|       1683|           1590|           3661|                 2192|                 5344|2023|2023-11-01|    RO|\n",
      "|110026|    752|   1865|                    427|                   1238|        103|        319|            114|            329|                  217|                  648|2023|2023-11-01|    RO|\n",
      "|110028|   9717|  22780|                   4876|                  13494|       1278|       3869|            461|           1113|                 1739|                 4982|2023|2023-11-01|    RO|\n",
      "+------+-------+-------+-----------------------+-----------------------+-----------+-----------+---------------+---------------+---------------------+---------------------+----+----------+------+\n",
      "only showing top 20 rows\n",
      "\n"
     ]
    }
   ],
   "source": [
    "from itertools import chain\n",
    "from pyspark.sql.functions import col, substring, lpad\n",
    "from pyspark.sql import functions as F\n",
    "\n",
    "# Removendo prefixo cadunico_\n",
    "for col_name in df.columns:\n",
    "    if col_name.startswith('cadunico_'):\n",
    "        new_col_name = col_name.replace('cadunico_', '', 1)\n",
    "        df = df.withColumnRenamed(col_name, new_col_name)\n",
    "\n",
    "# Separando a coluna 'anomes' em 'ano' e 'mes'\n",
    "df = df.withColumn('ano', substring(col('anomes'), 1, 4).cast('string'))\n",
    "df = df.withColumn('mes', substring(col('anomes'), 5, 2).cast('string'))\n",
    "\n",
    "# Concatenando ano e mês em um formato de data\n",
    "df = df.withColumn('data', F.concat(df['ano'], F.lit('-'), df['mes']))\n",
    "\n",
    "# Convertendo para tipo de dados data\n",
    "df = df.withColumn('data', F.to_date(df['data'], 'yyyy-MM'))\n",
    "\n",
    "# Excluindo colunas redundantes\n",
    "df = df.drop('mes', 'anomes')\n",
    "\n",
    "# Renomenando coluna data para mes\n",
    "df = df.withColumnRenamed('data', 'mes')\n",
    "\n",
    "# Convertendo o código do IBGE para string\n",
    "df = df.withColumn(\"ibge\", col(\"ibge\").cast(\"string\"))\n",
    "\n",
    "# Criando uma nova coluna pegando apenas os dois primeiros dígitos do código do município (estado)\n",
    "df = df.withColumn('estado', substring('ibge', 1, 2))\n",
    "\n",
    "# Criando um dicionário de mapeamento de códigos dos estados para as siglas dos estados\n",
    "estado_dict = {\n",
    "    '12': 'AC',\n",
    "    '27': 'AL',\n",
    "    '13': 'AM',\n",
    "    '16': 'AP',\n",
    "    '29': 'BA',\n",
    "    '23': 'CE',\n",
    "    '53': 'DF',\n",
    "    '32': 'ES',\n",
    "    '52': 'GO',\n",
    "    '21': 'MA',\n",
    "    '51': 'MT',\n",
    "    '50': 'MS',\n",
    "    '31': 'MG',\n",
    "    '15': 'PA',\n",
    "    '25': 'PB',\n",
    "    '41': 'PR',\n",
    "    '26': 'PE',\n",
    "    '22': 'PI',\n",
    "    '33': 'RJ',\n",
    "    '24': 'RN',\n",
    "    '43': 'RS',\n",
    "    '11': 'RO',\n",
    "    '14': 'RR',\n",
    "    '42': 'SC',\n",
    "    '35': 'SP',\n",
    "    '28': 'SE',\n",
    "    '17': 'TO'\n",
    "}\n",
    "\n",
    "# Convertendo o dicionário em uma expressão de mapeamento\n",
    "mapping_expr = F.create_map([F.lit(x) for x in chain(*estado_dict.items())])\n",
    "\n",
    "# Aplicando a expressão para criar uma nova coluna com as siglas dos estados\n",
    "df = df.withColumn('nome_estado', mapping_expr[df['estado']])\n",
    "\n",
    "df = df.drop('estado')\n",
    "\n",
    "df = df.withColumnRenamed('nome_estado', 'estado')\n",
    "\n",
    "# Exibindo o DataFrame resultante\n",
    "print(\"DataFrame resultante:\")\n",
    "\n",
    "df.show()"
   ]
  },
  {
   "cell_type": "markdown",
   "metadata": {},
   "source": [
    "### Resgatando nomes dos municípios"
   ]
  },
  {
   "cell_type": "code",
   "execution_count": 76,
   "metadata": {},
   "outputs": [
    {
     "name": "stdout",
     "output_type": "stream",
     "text": [
      "Número de chaves no dicionário: 5570\n",
      "Número de chaves no dicionário corrigido: 5570\n",
      "DataFrame resultante:\n",
      "+------+-------+-------+-----------------------+-----------------------+-----------+-----------+---------------+---------------+---------------------+---------------------+----+----------+------+--------------------+\n",
      "|  ibge|tot_fam|tot_pes|tot_fam_rpc_ate_meio_sm|tot_pes_rpc_ate_meio_sm|tot_fam_pob|tot_pes_pob|tot_fam_ext_pob|tot_pes_ext_pob|tot_fam_pob_e_ext_pob|tot_pes_pob_e_ext_pob| ano|       mes|estado|           municipio|\n",
      "+------+-------+-------+-----------------------+-----------------------+-----------+-----------+---------------+---------------+---------------------+---------------------+----+----------+------+--------------------+\n",
      "|110001|   4978|  12757|                   2886|                   8590|        771|       2489|            722|           1965|                 1493|                 4454|2023|2023-11-01|    RO| Alta Floresta'Oeste|\n",
      "|110002|  19112|  44321|                  11575|                  30371|       2904|       8033|           3368|           8190|                 6272|                16223|2023|2023-11-01|    RO|           Ariquemes|\n",
      "|110003|    975|   2623|                    587|                   1805|        169|        521|            102|            290|                  271|                  811|2023|2023-11-01|    RO|              Cabixi|\n",
      "|110004|  18422|  42724|                  10005|                  26809|       2254|       6270|           3270|           8140|                 5524|                14410|2023|2023-11-01|    RO|              Cacoal|\n",
      "|110005|   3239|   7813|                   1884|                   5295|        573|       1594|            505|           1428|                 1078|                 3022|2023|2023-11-01|    RO|          Cerejeiras|\n",
      "|110006|   1870|   4889|                    982|                   2982|        204|        665|            200|            514|                  404|                 1179|2023|2023-11-01|    RO|   Colorado do Oeste|\n",
      "|110007|   1469|   3526|                    717|                   2082|        179|        524|            124|            356|                  303|                  880|2023|2023-11-01|    RO|          Corumbiara|\n",
      "|110008|   4442|  10315|                   2959|                   8062|        669|       1616|           1477|           4446|                 2146|                 6062|2023|2023-11-01|    RO|       Costa Marques|\n",
      "|110009|   5733|  14822|                   3090|                   9605|        676|       2192|            794|           2274|                 1470|                 4466|2023|2023-11-01|    RO|       Espigão'Oeste|\n",
      "|110010|  10468|  28388|                   7273|                  22569|       1994|       5494|           3047|          10774|                 5041|                16268|2023|2023-11-01|    RO|       Guajará-Mirim|\n",
      "|110011|  10003|  24042|                   5902|                  16196|       1651|       4724|           1226|           3022|                 2877|                 7746|2023|2023-11-01|    RO|                Jaru|\n",
      "|110012|  23589|  53941|                  13008|                  34533|       3455|       8990|           3470|           8649|                 6925|                17639|2023|2023-11-01|    RO|           Ji-Paraná|\n",
      "|110013|   7943|  20439|                   4698|                  13901|       1744|       5330|            673|           1972|                 2417|                 7302|2023|2023-11-01|    RO|    Machadinho'Oeste|\n",
      "|110014|   4597|  11238|                   2621|                   7295|        547|       1586|            926|           2500|                 1473|                 4086|2023|2023-11-01|    RO|Nova Brasilândia'...|\n",
      "|110015|   7878|  18374|                   4290|                  11490|       1046|       3092|           1251|           2691|                 2297|                 5783|2023|2023-11-01|    RO| Ouro Preto do Oeste|\n",
      "|110018|   5972|  13926|                   2989|                   8040|        723|       2011|            694|           1627|                 1417|                 3638|2023|2023-11-01|    RO|       Pimenta Bueno|\n",
      "|110020| 124716| 259169|                  82375|                 194091|      17580|      42869|          41530|          94777|                59110|               137646|2023|2023-11-01|    RO|         Porto Velho|\n",
      "|110025|   6012|  13533|                   3428|                   8772|        602|       1683|           1590|           3661|                 2192|                 5344|2023|2023-11-01|    RO|   Presidente Médici|\n",
      "|110026|    752|   1865|                    427|                   1238|        103|        319|            114|            329|                  217|                  648|2023|2023-11-01|    RO|          Rio Crespo|\n",
      "|110028|   9717|  22780|                   4876|                  13494|       1278|       3869|            461|           1113|                 1739|                 4982|2023|2023-11-01|    RO|      Rolim de Moura|\n",
      "+------+-------+-------+-----------------------+-----------------------+-----------+-----------+---------------+---------------+---------------------+---------------------+----+----------+------+--------------------+\n",
      "only showing top 20 rows\n",
      "\n"
     ]
    }
   ],
   "source": [
    "import json\n",
    "\n",
    "municipios_code_path ='C:\\\\Users\\\\usuario\\\\Desktop\\\\ETL\\\\dados_abertos\\\\municipios-code.json'\n",
    "\n",
    "municipios_dict = {}\n",
    "\n",
    "with open(municipios_code_path, 'r', encoding='utf-8') as file:\n",
    "    municipios_dict = json.load(file)\n",
    "\n",
    "\n",
    "# Imprimindo o número de chaves (keys) no dicionário\n",
    "print(\"Número de chaves no dicionário:\", len(municipios_dict))\n",
    "\n",
    "# Removendo o último dígito de cada chave\n",
    "municipios_dict_corrigido = {key[:-1]: value for key, value in municipios_dict.items()}\n",
    "\n",
    "# Exibindo o número de chaves no dicionário corrigido\n",
    "print(\"Número de chaves no dicionário corrigido:\", len(municipios_dict_corrigido))\n",
    "\n",
    "# Convertendo o dicionário em uma expressão de mapeamento\n",
    "mapping_expr = F.create_map([F.lit(x) for x in chain(*municipios_dict_corrigido.items())])\n",
    "\n",
    "# Aplicando a expressão para criar uma nova coluna com os nomes dos estados\n",
    "df = df.withColumn('municipio', mapping_expr[df['ibge']])\n",
    "\n",
    "# Exibindo o DataFrame resultante\n",
    "print(\"DataFrame resultante:\")\n",
    "\n",
    "df.show()\n"
   ]
  },
  {
   "cell_type": "markdown",
   "metadata": {},
   "source": [
    "### Exportando dataframe resultante para CSV"
   ]
  },
  {
   "cell_type": "code",
   "execution_count": 77,
   "metadata": {},
   "outputs": [],
   "source": [
    "df.toPandas().to_csv('cad_unico_renda_tratado2.csv', index=False)"
   ]
  },
  {
   "cell_type": "markdown",
   "metadata": {},
   "source": [
    "### Desalocando sessão do spark\n"
   ]
  },
  {
   "cell_type": "code",
   "execution_count": 78,
   "metadata": {},
   "outputs": [],
   "source": [
    "# Stopping spark session\n",
    "spark_session.stop()"
   ]
  }
 ],
 "metadata": {
  "kernelspec": {
   "display_name": "Python 3 (ipykernel)",
   "language": "python",
   "name": "python3"
  },
  "language_info": {
   "codemirror_mode": {
    "name": "ipython",
    "version": 3
   },
   "file_extension": ".py",
   "mimetype": "text/x-python",
   "name": "python",
   "nbconvert_exporter": "python",
   "pygments_lexer": "ipython3",
   "version": "3.12.1"
  }
 },
 "nbformat": 4,
 "nbformat_minor": 2
}
